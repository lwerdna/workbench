{
 "cells": [
  {
   "cell_type": "code",
   "execution_count": 6,
   "id": "46354529",
   "metadata": {},
   "outputs": [],
   "source": [
    "import importlib\n",
    "from binja_jupyter import *"
   ]
  },
  {
   "cell_type": "code",
   "execution_count": 7,
   "id": "1f404894",
   "metadata": {},
   "outputs": [],
   "source": [
    "import os\n",
    "import binaryninja\n",
    "from binaryninja.enums import *\n",
    "fpath = os.path.join(os.environ['HOME'], 'repos/lwerdna/workbench/testbins/tests-macos-x64-macho')"
   ]
  },
  {
   "cell_type": "code",
   "execution_count": 8,
   "id": "301845bb",
   "metadata": {},
   "outputs": [],
   "source": [
    "bv = binaryninja.open_view(fpath)\n",
    "func = bv.get_functions_by_name('_loop0')[0]"
   ]
  },
  {
   "cell_type": "code",
   "execution_count": 9,
   "id": "dca9474f",
   "metadata": {},
   "outputs": [
    {
     "ename": "NameError",
     "evalue": "name 'binja_jupyter' is not defined",
     "output_type": "error",
     "traceback": [
      "\u001b[0;31m---------------------------------------------------------------------------\u001b[0m",
      "\u001b[0;31mNameError\u001b[0m                                 Traceback (most recent call last)",
      "Cell \u001b[0;32mIn [9], line 2\u001b[0m\n\u001b[1;32m      1\u001b[0m \u001b[38;5;28;01mimport\u001b[39;00m \u001b[38;5;21;01mimportlib\u001b[39;00m\n\u001b[0;32m----> 2\u001b[0m importlib\u001b[38;5;241m.\u001b[39mreload(\u001b[43mbinja_jupyter\u001b[49m)\n",
      "\u001b[0;31mNameError\u001b[0m: name 'binja_jupyter' is not defined"
     ]
    }
   ],
   "source": [
    "import importlib\n",
    "importlib.reload(binja_jupyter)"
   ]
  },
  {
   "cell_type": "code",
   "execution_count": null,
   "id": "590b956e",
   "metadata": {},
   "outputs": [],
   "source": [
    "func = bv.get_functions_by_name('_dream_cfg')[0]\n",
    "\n",
    "draw_basic_blocks_full(func.hlil)"
   ]
  },
  {
   "cell_type": "code",
   "execution_count": null,
   "id": "939817b3",
   "metadata": {
    "scrolled": false
   },
   "outputs": [],
   "source": [
    "# GRAPH THE DREAM CFG, HIGHLIGHTING CONDITIONAL NODES\n",
    "\n",
    "func = bv.get_functions_by_name('_dream_cfg')[0]\n",
    "\n",
    "G = bn2nx(func)\n",
    "#G[a,b]\n",
    "bb = func.llil.basic_blocks[0]\n",
    "reds = [bb for bb in func.llil.basic_blocks if bb[-1].operation == LowLevelILOperation.LLIL_IF]\n",
    "draw_basic_blocks_min(func.llil, reds)"
   ]
  },
  {
   "cell_type": "code",
   "execution_count": null,
   "id": "03d267d7",
   "metadata": {
    "scrolled": true
   },
   "outputs": [],
   "source": [
    "llil = func.llil\n",
    "G = cfg_slice(llil, llil.basic_blocks[1], llil.basic_blocks[11])\n",
    "draw_networkx(G)"
   ]
  },
  {
   "cell_type": "code",
   "execution_count": null,
   "id": "13eedd68",
   "metadata": {},
   "outputs": [],
   "source": [
    "G = cfg_slice(llil, llil.basic_blocks[2], llil.basic_blocks[13])\n",
    "draw_networkx(G)"
   ]
  },
  {
   "cell_type": "code",
   "execution_count": null,
   "id": "da9b2f67",
   "metadata": {},
   "outputs": [],
   "source": [
    "import svg_scene\n",
    "import importlib\n",
    "importlib.reload(svg_scene)\n",
    "\n",
    "scene = svg_scene.SVGScene()\n",
    "scene.rectangle((100,100),200,200,(0,255,255))\n",
    "scene.line((200,200),(200,300))\n",
    "scene.line((200,200),(300,200))\n",
    "scene.line((200,200),(100,200))\n",
    "scene.line((200,200),(200,100))\n",
    "scene.circle((200,200),30,(0,0,255))\n",
    "scene.circle((200,300),30,(0,255,0))\n",
    "scene.circle((300,200),30,(255,0,0))\n",
    "scene.circle((100,200),30,(255,255,0))\n",
    "scene.circle((200,100),30,\"fuchsia\")\n",
    "scene.text((50,50),\"Testing SVG\")\n",
    "scene"
   ]
  },
  {
   "cell_type": "code",
   "execution_count": null,
   "id": "eaa06176",
   "metadata": {},
   "outputs": [],
   "source": [
    "<svg>\n",
    "<ellipse style=\"fill:#00ff00;stroke:#000000;\" cx=\"50\" cy=\"50\" rx=\"48\" ry=\"48\">\n",
    "<ellipse>\n",
    "</svg>"
   ]
  },
  {
   "cell_type": "code",
   "execution_count": null,
   "id": "846c1729",
   "metadata": {},
   "outputs": [],
   "source": [
    "import matplotlib.pyplot as plt\n",
    "plt.plot([0,1,2], [0,2,4])"
   ]
  },
  {
   "cell_type": "code",
   "execution_count": null,
   "id": "49600714",
   "metadata": {},
   "outputs": [],
   "source": [
    "# https://ipywidgets.readthedocs.io/en/7.6.2/examples/Using%20Interact.html\n",
    "from ipywidgets import interact\n",
    "\n",
    "@interact(x=5.0, y=6.0)\n",
    "def f(x,y):\n",
    "    return f'{x},{y}'\n",
    "\n",
    "#interact(f, x=10)\n",
    "#interact(f, y=10)"
   ]
  },
  {
   "cell_type": "code",
   "execution_count": null,
   "id": "0e8f1895",
   "metadata": {
    "scrolled": false
   },
   "outputs": [],
   "source": [
    "import math\n",
    "import matplotlib.pyplot as plt\n",
    "\n",
    "# d: distance dog\n",
    "# c_water: how much slower water is than land\n",
    "# x,y: coordinates of ball\n",
    "def cost(d, c_water, x, y):\n",
    "    return 1*d + c_water*math.sqrt((x-d)**2 + y**2)\n",
    "\n",
    "@interact(c_water=(0,10,1), x=(0,30,.1), y=(0,30,.1))\n",
    "def f(c_water, x, y):\n",
    "    preimage = [.01*x for x in range(30*100)]\n",
    "    image = [cost(d, c_water, x, y) for d in preimage]\n",
    "    plt.xlabel(\"land distance\")\n",
    "    plt.ylabel(\"time\")\n",
    "    plt.plot(preimage, image)"
   ]
  },
  {
   "cell_type": "code",
   "execution_count": null,
   "id": "ed25fc27",
   "metadata": {},
   "outputs": [],
   "source": [
    "ax1 = plt.axes()  # standard axes\n",
    "ax2 = plt.axes([0.65, 0.65, 0.2, 0.2])"
   ]
  }
 ],
 "metadata": {
  "kernelspec": {
   "display_name": "Python 3 (ipykernel)",
   "language": "python",
   "name": "python3"
  },
  "language_info": {
   "codemirror_mode": {
    "name": "ipython",
    "version": 3
   },
   "file_extension": ".py",
   "mimetype": "text/x-python",
   "name": "python",
   "nbconvert_exporter": "python",
   "pygments_lexer": "ipython3",
   "version": "3.10.0"
  }
 },
 "nbformat": 4,
 "nbformat_minor": 5
}
