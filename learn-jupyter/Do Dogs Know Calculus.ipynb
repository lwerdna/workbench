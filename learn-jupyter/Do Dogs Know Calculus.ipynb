{
 "cells": [
  {
   "cell_type": "markdown",
   "id": "34feb7e4",
   "metadata": {},
   "source": [
    "A man walks his dog along the beach, and throws a ball into the water 10 units along the beach, and 3 units from the shore.\n",
    "The dog is 3x faster on land than it is in the water.\n",
    "If dog's goal is to minimize the time taken to get the ball, how far should it run on land before jumping into the water to swim?\n",
    "\n",
    "\n",
    "Let $d$ be the distance it runs along the shore.\n",
    "\n",
    "Let $(x,y)$ be the position of the ball and $(0, 0)$ be the initial position of the dog."
   ]
  },
  {
   "cell_type": "code",
   "execution_count": 1,
   "id": "0993e050",
   "metadata": {},
   "outputs": [
    {
     "data": {
      "image/svg+xml": [
       "<svg xmlns:dc=\"http://purl.org/dc/elements/1.1/\" xmlns:cc=\"http://creativecommons.org/ns#\" xmlns:rdf=\"http://www.w3.org/1999/02/22-rdf-syntax-ns#\" xmlns:svg=\"http://www.w3.org/2000/svg\" xmlns=\"http://www.w3.org/2000/svg\" xmlns:sodipodi=\"http://sodipodi.sourceforge.net/DTD/sodipodi-0.dtd\" xmlns:inkscape=\"http://www.inkscape.org/namespaces/inkscape\" width=\"320\" height=\"240\" viewBox=\"0 0 84.666665 63.5\" version=\"1.1\" id=\"svg8\" inkscape:version=\"1.0.1 (c497b03c, 2020-09-10)\" sodipodi:docname=\"beach.svg\" inkscape:export-filename=\"/Users/andrewl/repos/lwerdna/workbench/learn-jupyter/beach.png\" inkscape:export-xdpi=\"120.83\" inkscape:export-ydpi=\"120.83\">\n",
       "  <defs id=\"defs2\">\n",
       "    <marker style=\"overflow:visible;\" id=\"marker1553\" refX=\"0.0\" refY=\"0.0\" orient=\"auto\" inkscape:stockid=\"Arrow2Mend\" inkscape:isstock=\"true\">\n",
       "      <path transform=\"scale(0.6) rotate(180) translate(0,0)\" d=\"M 8.7185878,4.0337352 L -2.2072895,0.016013256 L 8.7185884,-4.0017078 C 6.9730900,-1.6296469 6.9831476,1.6157441 8.7185878,4.0337352 z \" style=\"fill-rule:evenodd;stroke-width:0.625;stroke-linejoin:round;stroke:#800080;stroke-opacity:1;fill:#800080;fill-opacity:1\" id=\"path1551\"/>\n",
       "    </marker>\n",
       "    <marker style=\"overflow:visible;\" id=\"Arrow1Mend\" refX=\"0.0\" refY=\"0.0\" orient=\"auto\" inkscape:stockid=\"Arrow1Mend\" inkscape:isstock=\"true\">\n",
       "      <path transform=\"scale(0.4) rotate(180) translate(10,0)\" style=\"fill-rule:evenodd;stroke:#800080;stroke-width:1pt;stroke-opacity:1;fill:#800080;fill-opacity:1\" d=\"M 0.0,0.0 L 5.0,-5.0 L -12.5,0.0 L 5.0,5.0 L 0.0,0.0 z \" id=\"path869\"/>\n",
       "    </marker>\n",
       "    <marker style=\"overflow:visible;\" id=\"marker1429\" refX=\"0.0\" refY=\"0.0\" orient=\"auto\" inkscape:stockid=\"Arrow2Mend\" inkscape:isstock=\"true\">\n",
       "      <path transform=\"scale(0.6) rotate(180) translate(0,0)\" d=\"M 8.7185878,4.0337352 L -2.2072895,0.016013256 L 8.7185884,-4.0017078 C 6.9730900,-1.6296469 6.9831476,1.6157441 8.7185878,4.0337352 z \" style=\"fill-rule:evenodd;stroke-width:0.625;stroke-linejoin:round;stroke:#800080;stroke-opacity:1;fill:#800080;fill-opacity:1\" id=\"path1427\"/>\n",
       "    </marker>\n",
       "    <marker style=\"overflow:visible\" id=\"marker1229\" refX=\"0\" refY=\"0\" orient=\"auto\" inkscape:stockid=\"Arrow2Mend\" inkscape:isstock=\"true\">\n",
       "      <path transform=\"scale(-0.6)\" d=\"M 8.7185878,4.0337352 -2.2072895,0.01601326 8.7185884,-4.0017078 c -1.7454984,2.3720609 -1.7354408,5.6174519 -6e-7,8.035443 z\" style=\"fill:#000000;fill-opacity:1;fill-rule:evenodd;stroke:#000000;stroke-width:0.625;stroke-linejoin:round;stroke-opacity:1\" id=\"path1227\"/>\n",
       "    </marker>\n",
       "    <marker style=\"overflow:visible;\" id=\"Arrow2Mend\" refX=\"0.0\" refY=\"0.0\" orient=\"auto\" inkscape:stockid=\"Arrow2Mend\" inkscape:isstock=\"true\" inkscape:collect=\"always\">\n",
       "      <path transform=\"scale(0.6) rotate(180) translate(0,0)\" d=\"M 8.7185878,4.0337352 L -2.2072895,0.016013256 L 8.7185884,-4.0017078 C 6.9730900,-1.6296469 6.9831476,1.6157441 8.7185878,4.0337352 z \" style=\"fill-rule:evenodd;stroke-width:0.625;stroke-linejoin:round;stroke:#ff00ff;stroke-opacity:1;fill:#ff00ff;fill-opacity:1\" id=\"path887\"/>\n",
       "    </marker>\n",
       "    <marker style=\"overflow:visible;\" id=\"marker1131\" refX=\"0.0\" refY=\"0.0\" orient=\"auto\" inkscape:stockid=\"Arrow1Lend\" inkscape:isstock=\"true\">\n",
       "      <path transform=\"scale(0.8) rotate(180) translate(12.5,0)\" style=\"fill-rule:evenodd;stroke:#000000;stroke-width:1pt;stroke-opacity:1;fill:#000000;fill-opacity:1\" d=\"M 0.0,0.0 L 5.0,-5.0 L -12.5,0.0 L 5.0,5.0 L 0.0,0.0 z \" id=\"path1129\"/>\n",
       "    </marker>\n",
       "    <marker style=\"overflow:visible;\" id=\"Arrow1Lend\" refX=\"0.0\" refY=\"0.0\" orient=\"auto\" inkscape:stockid=\"Arrow1Lend\" inkscape:isstock=\"true\" inkscape:collect=\"always\">\n",
       "      <path transform=\"scale(0.8) rotate(180) translate(12.5,0)\" style=\"fill-rule:evenodd;stroke:#000000;stroke-width:1pt;stroke-opacity:1;fill:#000000;fill-opacity:1\" d=\"M 0.0,0.0 L 5.0,-5.0 L -12.5,0.0 L 5.0,5.0 L 0.0,0.0 z \" id=\"path854\"/>\n",
       "    </marker>\n",
       "    <rect x=\"21.166666\" y=\"10.583333\" width=\"67.61649\" height=\"42.387057\" id=\"rect18\"/>\n",
       "  </defs>\n",
       "  <sodipodi:namedview id=\"base\" pagecolor=\"#ffffff\" bordercolor=\"#666666\" borderopacity=\"1.0\" inkscape:pageopacity=\"0.0\" inkscape:pageshadow=\"2\" inkscape:zoom=\"3.959798\" inkscape:cx=\"224.55557\" inkscape:cy=\"118.22678\" inkscape:document-units=\"px\" inkscape:current-layer=\"layer1\" inkscape:document-rotation=\"0\" showgrid=\"true\" inkscape:pagecheckerboard=\"false\" units=\"px\" inkscape:window-width=\"1567\" inkscape:window-height=\"943\" inkscape:window-x=\"153\" inkscape:window-y=\"204\" inkscape:window-maximized=\"0\" inkscape:snap-bbox=\"true\" inkscape:snap-bbox-midpoints=\"true\" inkscape:snap-global=\"true\">\n",
       "    <inkscape:grid type=\"xygrid\" id=\"grid10\" spacingx=\"5.2916666\" spacingy=\"5.2916666\" empspacing=\"4\"/>\n",
       "  </sodipodi:namedview>\n",
       "  <metadata id=\"metadata5\">\n",
       "    <rdf:RDF>\n",
       "      <cc:Work rdf:about=\"\">\n",
       "        <dc:format>image/svg+xml</dc:format>\n",
       "        <dc:type rdf:resource=\"http://purl.org/dc/dcmitype/StillImage\"/>\n",
       "        <dc:title/>\n",
       "      </cc:Work>\n",
       "    </rdf:RDF>\n",
       "  </metadata>\n",
       "  <g inkscape:label=\"Layer 1\" inkscape:groupmode=\"layer\" id=\"layer1\">\n",
       "    <rect style=\"fill:#f4e3d7;stroke:none;stroke-width:0.264999;stroke-linecap:round;stroke-miterlimit:4;stroke-dasharray:none\" id=\"rect1187\" width=\"74.083321\" height=\"10.583334\" x=\"10.583333\" y=\"52.916664\" ry=\"0\"/>\n",
       "    <rect style=\"fill:#00ffff;stroke:none;stroke-width:0.264999;stroke-linecap:round;stroke-miterlimit:4;stroke-dasharray:none\" id=\"rect1185\" width=\"74.083336\" height=\"52.916664\" x=\"10.583333\" y=\"0\" ry=\"0\"/>\n",
       "    <path style=\"fill:none;stroke:#000000;stroke-width:0.265;stroke-linecap:butt;stroke-linejoin:miter;stroke-opacity:1;stroke-miterlimit:4;stroke-dasharray:none;marker-end:url(#Arrow1Lend)\" d=\"M 0,52.916666 H 84.666666\" id=\"path849\"/>\n",
       "    <path style=\"fill:none;stroke:#000000;stroke-width:0.265;stroke-linecap:butt;stroke-linejoin:miter;stroke-miterlimit:4;stroke-dasharray:none;stroke-opacity:1;marker-end:url(#marker1131)\" d=\"M 10.583333,63.499999 V 0\" id=\"path1127\" sodipodi:nodetypes=\"cc\"/>\n",
       "    <path style=\"fill:#784421;stroke:#000000;stroke-width:0.264583px;stroke-linecap:butt;stroke-linejoin:miter;stroke-opacity:1\" d=\"m 5.8586309,54.995534 1.0394344,-3.118302 -1.8898809,0.566965 1.984375,-1.795388 1.6063989,-0.283483 2.1733627,1.039434 2.173363,-0.944938 0.661458,-1.511906 -0.283482,-1.133927 1.417411,1.322916 0.755952,0.188987 0.09449,0.661458 1.984375,0.850448 -0.283482,1.133927 -3.118303,-0.09449 -0.566965,1.795386 0.283483,2.36235 h -1.322917 l -0.47247,-2.456844 -0.566965,0.661459 H 8.1264881 L 7.7485118,53.861607 v 1.039434 l -1.1339285,0.566965 0.283482,0.850445 H 5.953125 Z\" id=\"path853\"/>\n",
       "    <text xml:space=\"preserve\" style=\"font-size:3.88056000000000001px;line-height:1.25;font-family:sans-serif;stroke-width:0.264583;stroke:#ff00ff;fill:#ff00ff;\" x=\"30.840849\" y=\"56.856098\" id=\"text856\"><tspan sodipodi:role=\"line\" id=\"tspan854\" x=\"30.840849\" y=\"56.856098\" style=\"font-size:3.88056000000000001px;stroke-width:0.264583;stroke:#ff00ff;fill:#ff00ff;\">d</tspan></text>\n",
       "    <path style=\"fill:none;stroke:#800080;stroke-width:1.32292;stroke-linecap:butt;stroke-linejoin:miter;stroke-miterlimit:4;stroke-dasharray:none;stroke-opacity:1;marker-end:url(#marker1553)\" d=\"M 52.916666,58.208333 63.499999,37.041666\" id=\"path1425\" sodipodi:nodetypes=\"cc\"/>\n",
       "    <circle style=\"fill:#ffff00;stroke:#000000;stroke-width:0.14391;stroke-linecap:round;stroke-miterlimit:4;stroke-dasharray:none\" id=\"tennisball\" cx=\"63.5\" cy=\"37.041668\" r=\"1.4368466\"/>\n",
       "    <path style=\"fill:none;stroke:#ff00ff;stroke-width:1.32291665;stroke-linecap:butt;stroke-linejoin:miter;stroke-opacity:1;stroke-miterlimit:4;stroke-dasharray:none;marker-end:url(#Arrow2Mend)\" d=\"M 10.583333,58.208333 H 52.916666\" id=\"path858\"/>\n",
       "    <text xml:space=\"preserve\" style=\"font-size:3.88056px;line-height:1.25;font-family:sans-serif;stroke-width:0.264583\" x=\"66.887466\" y=\"38.288902\" id=\"text1297\"><tspan sodipodi:role=\"line\" id=\"tspan1295\" x=\"66.887466\" y=\"38.288902\" style=\"font-size:3.88056px;stroke-width:0.264583\">(x,y)</tspan></text>\n",
       "  </g>\n",
       "</svg>"
      ],
      "text/plain": [
       "<IPython.core.display.SVG object>"
      ]
     },
     "execution_count": 1,
     "metadata": {},
     "output_type": "execute_result"
    }
   ],
   "source": [
    "from IPython.display import SVG\n",
    "SVG(open('./beach.svg').read())"
   ]
  },
  {
   "cell_type": "markdown",
   "id": "87e03541",
   "metadata": {},
   "source": [
    "We need an expression for cost, dependent on how far the dog walks on land d.\n",
    "\n",
    "The diagonal line in the water is the hypotenuse of a triangle with leg lengths $x-d$ and $y$, so it's $\\sqrt{(x-d)^2 + y^2}$ long.\n",
    "\n",
    "Let the land cost be considered $1$ and the water cost be $c$ times as costly. Then the land cost is $d$, the water cost is $c$ times the length of the hypotenuse and we arrive at:\n",
    "\n",
    "$$\n",
    "cost(d) = d + c\\sqrt{(x-d)^2 + y^2}\n",
    "$$\n",
    "\n",
    "We can now graph this cost depending on d, c, and the location of the ball x, y:"
   ]
  },
  {
   "cell_type": "code",
   "execution_count": 9,
   "id": "8787feea",
   "metadata": {},
   "outputs": [
    {
     "data": {
      "application/vnd.jupyter.widget-view+json": {
       "model_id": "aa7ac5e29a114a1c929c904c59a5063f",
       "version_major": 2,
       "version_minor": 0
      },
      "text/plain": [
       "interactive(children=(IntSlider(value=3, description='c', max=9, min=-3), IntSlider(value=10, description='x',…"
      ]
     },
     "metadata": {},
     "output_type": "display_data"
    }
   ],
   "source": [
    "from ipywidgets import interact\n",
    "\n",
    "import math\n",
    "import matplotlib.pyplot as plt\n",
    "\n",
    "import numpy as np\n",
    "\n",
    "def cost(d, c, x, y):\n",
    "    return 1*d + c*math.sqrt((x-d)**2 + y**2)\n",
    "\n",
    "def cost2(d, c, x, y):\n",
    "    return d/c + math.sqrt((x-d)**2 + y**2)\n",
    "\n",
    "@interact(c=3, x=10, y=3)\n",
    "def f(c, x, y):\n",
    "    preimage = np.linspace(0, 20)\n",
    "    image = [cost(d, c, x, y) for d in preimage]\n",
    "    image2 = [cost2(d, c, x, y) for d in preimage]\n",
    "    plt.xlabel(\"d (land distance)\")\n",
    "    plt.ylabel(\"cost(d)\")\n",
    "    plt.grid(linestyle = '--', linewidth = 0.5)\n",
    "    plt.plot(preimage, image, label=f'$d + {c}*'+'\\sqrt{'+f'({x}-d)^2 + {y**2}'+'}$')\n",
    "    plt.plot(preimage, image2, label=f'$d/{c} + '+'\\sqrt{'+f'({x}-d)^2 + {y**2}'+'}$')\n",
    "    plt.legend(loc='upper right')"
   ]
  },
  {
   "cell_type": "markdown",
   "id": "2448f3c5",
   "metadata": {},
   "source": [
    "There's a beautiful spot around $d=9$ where the cost is minimized for the default values $(c, x, y) = (3, 10, 3)$. And it shouldn't seem crazy that the dog spends roughly 90% of its time on land before hopping into the water for the final 10%.\n",
    "\n",
    "But how do you find exactly where this occurs? By finding the derivative and solving for where it equals zero.\n",
    "\n",
    "TODO: differentiate this slowly.\n",
    "\n",
    "$$\n",
    "cost'(d) = 1 - \\frac{c(x-d)}{\\sqrt{(x-d)^2 + y^2}}\n",
    "$$"
   ]
  },
  {
   "cell_type": "markdown",
   "id": "7e20564b",
   "metadata": {},
   "source": [
    "Solving this for $d$ when $cost'(d) = 0$ is tough, but we can collect terms with $d^2, d^1, 1$ and get a quadratic:\n",
    "\n",
    "Starting with:\n",
    "\n",
    "$$\n",
    "1 - \\frac{c(x-d)}{\\sqrt{(x-d)^2 + y^2}} = 0\n",
    "$$\n",
    "\n",
    "Subtract 1, multiply by -1:\n",
    "\n",
    "$$\n",
    "\\frac{c(x-d)}{\\sqrt{(x-d)^2 + y^2}} = 1\n",
    "$$\n",
    "\n",
    "Multiply by the radical, then square both sides:\n",
    "\n",
    "$$\n",
    "x^2 - 2xd + d^2 + y^2 = c^2x^2 - 2c^2dx + c^2d^2\n",
    "$$\n",
    "\n",
    "Group terms on $d^2$, $d^1$, and $d^0$:\n",
    "\n",
    "$$\n",
    "(1-c^2)d^2 + (2c^2x - 2x)d + (x^2 +y^2-c^2x^2) = 0\n",
    "$$\n",
    "\n",
    "And that's our quadratic $Ax^2 + Bx + C$ with:\n",
    "\n",
    "$$\n",
    "A=1-c^2\n",
    "$$\n",
    "\n",
    "$$\n",
    "B=2c^2x - 2x\n",
    "$$\n",
    "\n",
    "$$\n",
    "C=x^2 +y^2-c^2x^2\n",
    "$$\n",
    "\n",
    "So to solve where it's zero, we just solve the quadratic:"
   ]
  },
  {
   "cell_type": "code",
   "execution_count": 3,
   "id": "4a293534",
   "metadata": {},
   "outputs": [
    {
     "data": {
      "application/vnd.jupyter.widget-view+json": {
       "model_id": "88880e2a3c13404b8ff625727488c7be",
       "version_major": 2,
       "version_minor": 0
      },
      "text/plain": [
       "interactive(children=(IntSlider(value=3, description='c', max=9, min=-3), IntSlider(value=10, description='x',…"
      ]
     },
     "metadata": {},
     "output_type": "display_data"
    }
   ],
   "source": [
    "import numpy as np\n",
    "\n",
    "@interact(c=3, x=10, y=3)\n",
    "def f(c, x, y):\n",
    "    A = 1 - c*c\n",
    "    B = 2*c*c*x - 2*x\n",
    "    C = x*x + y*y - c*c*x*x\n",
    "    plt.xlabel(\"d\")\n",
    "    plt.ylabel(\"cost'(d)\")\n",
    "    preimage = np.linspace(7.5, 12.5)\n",
    "    image = [A*x*x + B*x + C for x in preimage]\n",
    "    plt.grid(linestyle = '--', linewidth = 0.5)\n",
    "    plt.plot(preimage, image, label=f'${A}x^2 + {B}x + {C}$')\n",
    "    plt.legend(loc='upper right')"
   ]
  },
  {
   "cell_type": "code",
   "execution_count": 4,
   "id": "564c941e",
   "metadata": {},
   "outputs": [
    {
     "data": {
      "application/vnd.jupyter.widget-view+json": {
       "model_id": "a273d085d0c842709ff9fb4f8f5c5eda",
       "version_major": 2,
       "version_minor": 0
      },
      "text/plain": [
       "interactive(children=(IntSlider(value=3, description='c', max=9, min=-3), IntSlider(value=10, description='x',…"
      ]
     },
     "metadata": {},
     "output_type": "display_data"
    }
   ],
   "source": [
    "import numpy as np\n",
    "\n",
    "def solve_quadratic(a, b, c):\n",
    "    discr = b**2 - 4*a*c\n",
    "    print(discr)\n",
    "    return (-b + math.sqrt(discr))/(2*a), (-b - math.sqrt(discr))/(2*a)\n",
    "\n",
    "@interact(c=3, x=10, y=3)\n",
    "def f(c, x, y):\n",
    "    c0 = 1 - c*c\n",
    "    c1 = 2*c*c*x - 2*x\n",
    "    c2 = x*x + y*y - c*c*x*x\n",
    "    return solve_quadratic(c0, c1, c2)"
   ]
  },
  {
   "cell_type": "markdown",
   "id": "8191e046",
   "metadata": {},
   "source": [
    "And $d = 8.94$ is the actual optimal length for dog to run on land before swimming.\n",
    "\n",
    "An interesting result is that after a solution is found, varying the problem's $x$ (the horizontal distance) by, say, $dx$ varies the solution $d$ also by $dx$."
   ]
  }
 ],
 "metadata": {
  "kernelspec": {
   "display_name": "Python 3 (ipykernel)",
   "language": "python",
   "name": "python3"
  },
  "language_info": {
   "codemirror_mode": {
    "name": "ipython",
    "version": 3
   },
   "file_extension": ".py",
   "mimetype": "text/x-python",
   "name": "python",
   "nbconvert_exporter": "python",
   "pygments_lexer": "ipython3",
   "version": "3.10.0"
  }
 },
 "nbformat": 4,
 "nbformat_minor": 5
}
