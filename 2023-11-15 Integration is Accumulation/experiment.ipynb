{
 "cells": [
  {
   "cell_type": "code",
   "execution_count": 6,
   "id": "8c5cfa7e",
   "metadata": {},
   "outputs": [],
   "source": [
    "import matplotlib.pyplot as plt\n",
    "import math\n",
    "import ipywidgets as widgets"
   ]
  },
  {
   "cell_type": "markdown",
   "id": "836f3815",
   "metadata": {},
   "source": [
    "## For acceleration of $\\frac{1m}{s^2}$ which results in $p(t) = \\frac{1}{2} x^2$"
   ]
  },
  {
   "cell_type": "code",
   "execution_count": 5,
   "id": "b66ed3af",
   "metadata": {},
   "outputs": [],
   "source": [
    "# actual\n",
    "DOMAIN = [0, 10]\n",
    "N_SAMPLES = 1000\n",
    "STEP = (DOMAIN[1]-DOMAIN[0])/N_SAMPLES\n",
    "xs = [i*STEP for i in range(N_SAMPLES)]\n",
    "ys = [1/2 * x*x for x in xs]"
   ]
  },
  {
   "cell_type": "code",
   "execution_count": 7,
   "id": "788c21cf",
   "metadata": {},
   "outputs": [
    {
     "data": {
      "application/vnd.jupyter.widget-view+json": {
       "model_id": "e40708488ff845fa86cd6c69d0afa5e6",
       "version_major": 2,
       "version_minor": 0
      },
      "text/plain": [
       "interactive(children=(IntSlider(value=20, description='N_SAMPLES', min=2), Output()), _dom_classes=('widget-in…"
      ]
     },
     "metadata": {},
     "output_type": "display_data"
    }
   ],
   "source": [
    "N_SAMPLES = 10\n",
    "\n",
    "def getlast(l):\n",
    "    return l[-1] if l else 0\n",
    "\n",
    "@widgets.interact(N_SAMPLES=(2,100))\n",
    "def f(N_SAMPLES=20):\n",
    "    global DOMAIN\n",
    "    t = (DOMAIN[1]-DOMAIN[0])/N_SAMPLES\n",
    "    \n",
    "    PREIMAGE = [i*t for i in range(N_SAMPLES)]\n",
    "\n",
    "    # acceleration, velocity, and position start at 0\n",
    "    a, v, p = [], [], []\n",
    "    for _ in range(N_SAMPLES):\n",
    "        a.append(1)                         # accelerate 1m/s/s\n",
    "        v.append(getlast(v) + getlast(a)*t) # velocity is previous velocity plus accel\n",
    "        p.append(getlast(p) + getlast(v)*t) # position is previous position plus velocity\n",
    "\n",
    "    #print(f't: {t}')\n",
    "    print(f'a: {a}')\n",
    "    print(f'v: {v}')\n",
    "    print(f'p: {p}')\n",
    "\n",
    "    fig = plt.figure()\n",
    "    ax = plt.axes()\n",
    "\n",
    "    ax.plot(PREIMAGE, a, label=\"a\")\n",
    "    ax.plot(PREIMAGE, v, label=\"v\")\n",
    "    ax.plot(PREIMAGE, p, label=\"p\")\n",
    "    ax.plot(xs, ys, label=\"t^2/2\")\n",
    "    ax.legend()"
   ]
  },
  {
   "cell_type": "markdown",
   "id": "4882b102",
   "metadata": {},
   "source": [
    "## Again, with $f(x) = x^3$"
   ]
  },
  {
   "cell_type": "code",
   "execution_count": null,
   "id": "3c86ce31",
   "metadata": {},
   "outputs": [],
   "source": [
    "# actual\n",
    "DOMAIN = [0, 10]\n",
    "N_SAMPLES = 1000\n",
    "STEP = (DOMAIN[1]-DOMAIN[0])/N_SAMPLES\n",
    "xs = [i*STEP for i in range(N_SAMPLES)]\n",
    "ys = [x*x*x for x in xs]"
   ]
  },
  {
   "cell_type": "code",
   "execution_count": 4,
   "id": "0993e050",
   "metadata": {},
   "outputs": [
    {
     "ename": "NameError",
     "evalue": "name 'widgets' is not defined",
     "output_type": "error",
     "traceback": [
      "\u001b[0;31m---------------------------------------------------------------------------\u001b[0m",
      "\u001b[0;31mNameError\u001b[0m                                 Traceback (most recent call last)",
      "Cell \u001b[0;32mIn[4], line 6\u001b[0m\n\u001b[1;32m      3\u001b[0m \u001b[38;5;28;01mdef\u001b[39;00m \u001b[38;5;21mgetlast\u001b[39m(l):\n\u001b[1;32m      4\u001b[0m     \u001b[38;5;28;01mreturn\u001b[39;00m l[\u001b[38;5;241m-\u001b[39m\u001b[38;5;241m1\u001b[39m] \u001b[38;5;28;01mif\u001b[39;00m l \u001b[38;5;28;01melse\u001b[39;00m \u001b[38;5;241m0\u001b[39m\n\u001b[0;32m----> 6\u001b[0m \u001b[38;5;129m@widgets\u001b[39m\u001b[38;5;241m.\u001b[39minteract(N_SAMPLES\u001b[38;5;241m=\u001b[39m(\u001b[38;5;241m2\u001b[39m,\u001b[38;5;241m100\u001b[39m))\n\u001b[1;32m      7\u001b[0m \u001b[38;5;28;01mdef\u001b[39;00m \u001b[38;5;21mf\u001b[39m(N_SAMPLES\u001b[38;5;241m=\u001b[39m\u001b[38;5;241m10\u001b[39m):\n\u001b[1;32m      8\u001b[0m     \u001b[38;5;28;01mglobal\u001b[39;00m DOMAIN\n\u001b[1;32m      9\u001b[0m     t \u001b[38;5;241m=\u001b[39m (DOMAIN[\u001b[38;5;241m1\u001b[39m]\u001b[38;5;241m-\u001b[39mDOMAIN[\u001b[38;5;241m0\u001b[39m])\u001b[38;5;241m/\u001b[39mN_SAMPLES\n",
      "\u001b[0;31mNameError\u001b[0m: name 'widgets' is not defined"
     ]
    }
   ],
   "source": [
    "N_SAMPLES = 10\n",
    "\n",
    "def getlast(l):\n",
    "    return l[-1] if l else 0\n",
    "\n",
    "@widgets.interact(N_SAMPLES=(2,100))\n",
    "def f(N_SAMPLES=10):\n",
    "    global DOMAIN\n",
    "    t = (DOMAIN[1]-DOMAIN[0])/N_SAMPLES\n",
    "    \n",
    "    PREIMAGE = [i*t for i in range(N_SAMPLES)]\n",
    "\n",
    "    c, d, e, f = [], [], [], []\n",
    "    for _ in range(N_SAMPLES):\n",
    "        c.append(6)                         # \n",
    "        d.append(getlast(d) + getlast(c)*t) # \n",
    "        e.append(getlast(e) + getlast(d)*t) # \n",
    "        f.append(getlast(f) + getlast(e)*t) # \n",
    "        \n",
    "    #print(f't: {t}')\n",
    "    #print(f'c: {c}')\n",
    "    #print(f'd: {d}')\n",
    "    #print(f'e: {e}')\n",
    "    #print(f'f: {f}')\n",
    "    \n",
    "    fig = plt.figure()\n",
    "    ax = plt.axes()\n",
    "\n",
    "    #ax.plot(PREIMAGE, c, label=\"c\")\n",
    "    #ax.plot(PREIMAGE, d, label=\"d\")\n",
    "    #ax.plot(PREIMAGE, e, label=\"e\")\n",
    "    ax.plot(PREIMAGE, f, label=\"f\")\n",
    "    ax.plot(xs, ys, label=\"t^3\")\n",
    "    ax.legend()"
   ]
  }
 ],
 "metadata": {
  "kernelspec": {
   "display_name": "Python 3 (ipykernel)",
   "language": "python",
   "name": "python3"
  },
  "language_info": {
   "codemirror_mode": {
    "name": "ipython",
    "version": 3
   },
   "file_extension": ".py",
   "mimetype": "text/x-python",
   "name": "python",
   "nbconvert_exporter": "python",
   "pygments_lexer": "ipython3",
   "version": "3.9.6"
  }
 },
 "nbformat": 4,
 "nbformat_minor": 5
}
