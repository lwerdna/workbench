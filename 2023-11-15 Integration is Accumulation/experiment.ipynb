{
 "cells": [
  {
   "cell_type": "code",
   "execution_count": 9,
   "id": "8c5cfa7e",
   "metadata": {},
   "outputs": [],
   "source": [
    "import matplotlib.pyplot as plt\n",
    "import math"
   ]
  },
  {
   "cell_type": "markdown",
   "id": "836f3815",
   "metadata": {},
   "source": [
    "## For acceleration of $\\frac{1m}{s^2}$ which results in $p(t) = \\frac{1}{2} x^2$"
   ]
  },
  {
   "cell_type": "code",
   "execution_count": 22,
   "id": "b66ed3af",
   "metadata": {},
   "outputs": [],
   "source": [
    "# actual\n",
    "DOMAIN = [0, 10]\n",
    "N_SAMPLES = 1000\n",
    "STEP = (DOMAIN[1]-DOMAIN[0])/N_SAMPLES\n",
    "xs = [i*STEP for i in range(N_SAMPLES)]\n",
    "ys = [1/2 * x*x for x in xs]"
   ]
  },
  {
   "cell_type": "code",
   "execution_count": 53,
   "id": "788c21cf",
   "metadata": {},
   "outputs": [
    {
     "data": {
      "application/vnd.jupyter.widget-view+json": {
       "model_id": "2a845ad610c448a5b1d32afcca45a95b",
       "version_major": 2,
       "version_minor": 0
      },
      "text/plain": [
       "interactive(children=(IntSlider(value=20, description='N_SAMPLES', min=2), Output()), _dom_classes=('widget-in…"
      ]
     },
     "metadata": {},
     "output_type": "display_data"
    }
   ],
   "source": [
    "N_SAMPLES = 10\n",
    "\n",
    "def getlast(l):\n",
    "    return l[-1] if l else 0\n",
    "\n",
    "@widgets.interact(N_SAMPLES=(2,100))\n",
    "def f(N_SAMPLES=20):\n",
    "    global DOMAIN\n",
    "    t = (DOMAIN[1]-DOMAIN[0])/N_SAMPLES\n",
    "    \n",
    "    PREIMAGE = [i*t for i in range(N_SAMPLES)]\n",
    "\n",
    "    # acceleration, velocity, and position start at 0\n",
    "    a, v, p = [], [], []\n",
    "    for _ in range(N_SAMPLES):\n",
    "        a.append(1)                         # accelerate 1m/s/s\n",
    "        v.append(getlast(v) + getlast(a)*t) # velocity is previous velocity plus accel\n",
    "        p.append(getlast(p) + getlast(v)*t) # position is previous position plus velocity\n",
    "\n",
    "    #print(f't: {t}')\n",
    "    print(f'a: {a}')\n",
    "    print(f'v: {v}')\n",
    "    print(f'p: {p}')\n",
    "\n",
    "    fig = plt.figure()\n",
    "    ax = plt.axes()\n",
    "\n",
    "    ax.plot(PREIMAGE, a, label=\"a\")\n",
    "    ax.plot(PREIMAGE, v, label=\"v\")\n",
    "    ax.plot(PREIMAGE, p, label=\"p\")\n",
    "    ax.plot(xs, ys, label=\"t^2/2\")\n",
    "    ax.legend()"
   ]
  },
  {
   "cell_type": "markdown",
   "id": "4882b102",
   "metadata": {},
   "source": [
    "## Again, with $f(x) = x^3$"
   ]
  },
  {
   "cell_type": "code",
   "execution_count": 56,
   "id": "3c86ce31",
   "metadata": {},
   "outputs": [],
   "source": [
    "# actual\n",
    "DOMAIN = [0, 10]\n",
    "N_SAMPLES = 1000\n",
    "STEP = (DOMAIN[1]-DOMAIN[0])/N_SAMPLES\n",
    "xs = [i*STEP for i in range(N_SAMPLES)]\n",
    "ys = [x*x*x for x in xs]"
   ]
  },
  {
   "cell_type": "code",
   "execution_count": 63,
   "id": "0993e050",
   "metadata": {},
   "outputs": [
    {
     "data": {
      "application/vnd.jupyter.widget-view+json": {
       "model_id": "b8398357c3454c13a4d5bc7cd4688d77",
       "version_major": 2,
       "version_minor": 0
      },
      "text/plain": [
       "interactive(children=(IntSlider(value=10, description='N_SAMPLES', min=2), Output()), _dom_classes=('widget-in…"
      ]
     },
     "metadata": {},
     "output_type": "display_data"
    }
   ],
   "source": [
    "N_SAMPLES = 10\n",
    "\n",
    "def getlast(l):\n",
    "    return l[-1] if l else 0\n",
    "\n",
    "@widgets.interact(N_SAMPLES=(2,100))\n",
    "def f(N_SAMPLES=10):\n",
    "    global DOMAIN\n",
    "    t = (DOMAIN[1]-DOMAIN[0])/N_SAMPLES\n",
    "    \n",
    "    PREIMAGE = [i*t for i in range(N_SAMPLES)]\n",
    "\n",
    "    c, d, e, f = [], [], [], []\n",
    "    for _ in range(N_SAMPLES):\n",
    "        c.append(6)                         # \n",
    "        d.append(getlast(d) + getlast(c)*t) # \n",
    "        e.append(getlast(e) + getlast(d)*t) # \n",
    "        f.append(getlast(f) + getlast(e)*t) # \n",
    "        \n",
    "    #print(f't: {t}')\n",
    "    #print(f'c: {c}')\n",
    "    #print(f'd: {d}')\n",
    "    #print(f'e: {e}')\n",
    "    #print(f'f: {f}')\n",
    "    \n",
    "    fig = plt.figure()\n",
    "    ax = plt.axes()\n",
    "\n",
    "    #ax.plot(PREIMAGE, c, label=\"c\")\n",
    "    #ax.plot(PREIMAGE, d, label=\"d\")\n",
    "    #ax.plot(PREIMAGE, e, label=\"e\")\n",
    "    ax.plot(PREIMAGE, f, label=\"f\")\n",
    "    ax.plot(xs, ys, label=\"t^3\")\n",
    "    ax.legend()"
   ]
  }
 ],
 "metadata": {
  "kernelspec": {
   "display_name": "Python 3 (ipykernel)",
   "language": "python",
   "name": "python3"
  },
  "language_info": {
   "codemirror_mode": {
    "name": "ipython",
    "version": 3
   },
   "file_extension": ".py",
   "mimetype": "text/x-python",
   "name": "python",
   "nbconvert_exporter": "python",
   "pygments_lexer": "ipython3",
   "version": "3.10.0"
  }
 },
 "nbformat": 4,
 "nbformat_minor": 5
}
